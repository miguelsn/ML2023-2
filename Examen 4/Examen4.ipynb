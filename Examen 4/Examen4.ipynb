{
 "cells": [
  {
   "cell_type": "markdown",
   "metadata": {},
   "source": [
    "\n",
    "# Examen rápido No. 4\n",
    "\n",
    "## Reconocimiento de Patrones, 2023-2\n",
    "\n",
    "## Licenciatura en Ciencia de la Computación\n",
    "\n",
    "**Miguel Navarro**"
   ]
  },
  {
   "cell_type": "markdown",
   "metadata": {},
   "source": [
    "Partiendo de: <br>\n",
    "$$\n",
    "Y^{(i)}| X^{(i)};w,b\\sim Poisson (\\lambda)\n",
    "$$ <br>\n",
    "**1. Encontrar $b(y), \\eta, T(y), a(\\eta)$**   \n",
    "Tenemos:\n",
    "$$ Pr(y|\\lambda) = \\dfrac{\\lambda^{y_i}e^{-\\lambda}}{y_i!}$$  \n",
    "Y la representación de una familia exponencial:\n",
    "$$ p(y |\\eta ) = b(y) exp \\{ \\eta^T T(y) - a (\\eta)\\}$$\n",
    "Por lo tanto:  \n",
    "$$P(y|\\eta)=exp\\{\\log(\\dfrac{\\lambda^{y_i}e^{-\\lambda}}{y_i!})\\}$$\n",
    "$$ = \\dfrac {1}{y!} exp \\{y\\log\\lambda - \\lambda \\} $$\n",
    "De forma que:\n",
    "$$b(y) = \\dfrac{1}{y!}$$\n",
    "$$\\eta = \\log \\lambda$$\n",
    "$$T(y) = y$$\n",
    "$$a(\\eta) = e^\\eta$$"
   ]
  },
  {
   "cell_type": "markdown",
   "metadata": {},
   "source": [
    "**2. Encontrar la funcion de link inversa**  \n",
    "Tenemos $\\eta = log \\lambda$ entonces:\n",
    "$$ \\lambda = e ^ \\eta$$"
   ]
  },
  {
   "cell_type": "markdown",
   "metadata": {},
   "source": [
    "**3. Encontrar como calcular $\\hat{y}=E[Y^{i}|X^{i}; w, b]$** en función de $X^{(i)}, w, b$  \n",
    "Reemplazamos los valores de $\\eta$ en la probabilidad calculada anteriormente:\n",
    "$$P(y_i|x_i, w, b)=\\dfrac{1}{y!}\\cdot exp\\{y^{(i)}(wx+b)-e^{wx+b}\\}$$\n",
    "De forma que: \n",
    "$$\\hat{y} = $$\n",
    "$$\\hat{y} = e^{wx+b}$$ "
   ]
  },
  {
   "cell_type": "markdown",
   "metadata": {},
   "source": [
    "**4. Usando el criterio de máxima verosimilitud, encontrar la función de costo (pérdida)**  \n",
    "Partiendo de:  \n",
    "$$w*, b* = \\arg \\max_{w\\in R^n, b\\in R} \\prod ^{m}_{i=1} h(y^{i})e^{\\eta(\\lambda^{(i)})T(y^{(i)})-A(\\lambda^{(i)})}$$\n",
    "$$w*, b* = \\arg \\max_{w\\in R^n, b\\in R} \\prod ^{m}_{i=1} \\dfrac{1}{y^{(i)}!}e^{\\log(\\lambda^{(i)})y^{(i)}-\\lambda^{(i)}}$$\n",
    "Aplicamos el criterio de máxima verosimilitud:  \n",
    "$$w*, b* = \\arg \\max_{w\\in R^n, b\\in R} \\sum^{m}_{i=1}\\log( \\dfrac{1}{y^{(i)}!})+\\log(e^{\\log(\\lambda^{(i)})y^{(i)}-\\lambda^{(i)})})$$\n",
    "$$w*, b* = \\arg \\max_{w\\in R^n, b\\in R} \\sum^{m}_{i=1}\\log(e^{\\log(\\lambda^{(i)})y^{(i)}-\\lambda^{(i)})})$$\n",
    "$$w*, b* = \\arg \\max_{w\\in R^n, b\\in R} \\sum^{m}_{i=1}\\log(\\lambda^{(i)})y^{(i)}-\\lambda^{(i)}$$\n",
    "Como queremos minimizar y promediar:\n",
    "$$w*, b* = \\arg \\min_{w\\in R^n, b\\in R} \\dfrac{1}{M} \\sum^{m}_{i=1}\\log(\\lambda^{(i)})y^{(i)}-\\lambda^{(i)}$$\n",
    "$$w*, b* = \\arg \\min_{w\\in R^n, b\\in R} \\dfrac{1}{M} \\sum^{m}_{i=1}\\hat{y^{(i)}}-\\log(y^{(i)})y^{(i)}$$\n",
    "Obteniendo la función de pérdida:  \n",
    "$$E_{in}(w,b)= \\dfrac{1}{M} \\sum^{m}_{i=1}\\hat{y^{(i)}}-\\log(y^{(i)})y^{(i)}$$"
   ]
  },
  {
   "cell_type": "markdown",
   "metadata": {},
   "source": [
    "**5. Derivar la regla de aprendizaje:**  \n",
    "$$\\dfrac{\\partial E_{in}(w,b)}{\\partial w } = \\dfrac{\\partial}{\\partial w } \\dfrac{1}{m}\\sum^m_{i=1} e^{w^Tx^{(i)}+b}-(w^{T}x^{(i)}+b)y^{(i)}$$\n",
    "$$\\dfrac{\\partial E_{in}(w,b)}{\\partial w } = \\dfrac{1}{m} \\sum^m_{i=1} x_i (\\hat{y} - y^{(i)})$$  \n",
    "$$\\dfrac{\\partial E_{in}(w,b)}{\\partial b } = \\dfrac{1}{m} \\sum^n_{i=1} \\hat{y} - y^{(i)}$$"
   ]
  },
  {
   "cell_type": "markdown",
   "metadata": {},
   "source": [
    "**6. Encontrar la forma algoritmica para calcular $\\Delta w$, $\\Delta b$**  \n",
    "Hacemos un descenso simple:\n"
   ]
  },
  {
   "cell_type": "code",
   "execution_count": null,
   "metadata": {},
   "outputs": [],
   "source": [
    "for i in range(epochs):\n",
    "    # Calculate dw\n",
    "    # Calculate db\n",
    "    w = w - alpha * w\n",
    "    b = b - alpha * b"
   ]
  },
  {
   "cell_type": "markdown",
   "metadata": {},
   "source": [
    "**7. Programar el algoritmo y hacer un caso ilustrativo**"
   ]
  },
  {
   "cell_type": "code",
   "execution_count": 3,
   "metadata": {},
   "outputs": [],
   "source": [
    "%matplotlib inline\n",
    "import numpy as np\n",
    "import matplotlib.pyplot as plt\n",
    "\n",
    "plt.rcParams['figure.figsize'] = (20,10)\n",
    "plt.style.use('ggplot')"
   ]
  },
  {
   "cell_type": "markdown",
   "metadata": {},
   "source": [
    "Definimos la función para calcular la pérdida:"
   ]
  },
  {
   "cell_type": "code",
   "execution_count": 38,
   "metadata": {},
   "outputs": [],
   "source": [
    "def loss(x, a, w, b):\n",
    "  a_hat = np.exp(x @ w + b)\n",
    "  error = (a_hat - np.log(a_hat) * a).mean()\n",
    "  return error"
   ]
  },
  {
   "cell_type": "markdown",
   "metadata": {},
   "source": [
    "Definimos la función para calcular los gradientes:"
   ]
  },
  {
   "cell_type": "code",
   "execution_count": 25,
   "metadata": {},
   "outputs": [],
   "source": [
    "def gradiente(x, a, w, b):\n",
    "    \n",
    "    M = x.shape[0]\n",
    "    hat_a = np.exp(x@w+b)\n",
    "    diff = hat_a-a\n",
    "    dw = (x.T @ diff)/M\n",
    "    db = diff.mean()\n",
    "    \n",
    "    return dw, db\n",
    "\n"
   ]
  },
  {
   "cell_type": "markdown",
   "metadata": {},
   "source": [
    "Definimos el descenso:"
   ]
  },
  {
   "cell_type": "code",
   "execution_count": 26,
   "metadata": {},
   "outputs": [],
   "source": [
    "def descenso(x, a, nu, max_iter=int(1e4), historial=False):\n",
    "    M, n = x.shape\n",
    "    \n",
    "    w = np.zeros(n)\n",
    "    b = 0.0\n",
    "\n",
    "    if historial:\n",
    "        error_hist = np.zeros(max_iter)\n",
    "        error_hist[0] = loss(x,a,w,b)\n",
    "    else:\n",
    "        error_hist = None\n",
    "        \n",
    "    for epoch in range(1, max_iter):\n",
    "        dw, db = gradiente(x,a,w,b)\n",
    "        \n",
    "        w = w-nu*dw\n",
    "        b = b-nu*db\n",
    "    \n",
    "        if historial:\n",
    "            error_hist[epoch] = loss(x,a,w,b)\n",
    "    return w, b, error_hist"
   ]
  },
  {
   "cell_type": "markdown",
   "metadata": {},
   "source": [
    "Generamos un conjunto de datos aleatorios de una distribución de Poisson:\n",
    "$$ w = [0.33, 0.12, 0.21]$$\n",
    "$$ b = 7 $$\n"
   ]
  },
  {
   "cell_type": "code",
   "execution_count": 27,
   "metadata": {},
   "outputs": [],
   "source": [
    "M = 100,000\n",
    "x = np.hstack\n",
    "M = 10_000\n",
    "x = np.hstack([\n",
    "    np.random.normal(0.0, 1.0, M).reshape(M, 1),\n",
    "    np.random.normal(0.0, 1.0, M).reshape(M, 1),\n",
    "    np.random.normal(0.0, 1.0, M).reshape(M, 1)\n",
    "])\n",
    "z = np.dot(x, np.array([0.33, 0.12, 0.21])) + 7.0 + np.random.normal(0.0, 0.01, M)\n",
    "a = np.exp(z)"
   ]
  },
  {
   "cell_type": "markdown",
   "metadata": {},
   "source": [
    "Ahora si probamos nuestro descenso:"
   ]
  },
  {
   "cell_type": "code",
   "execution_count": 42,
   "metadata": {},
   "outputs": [
    {
     "data": {
      "image/png": "[encoded data removed]",
      "text/plain": [
       "<Figure size 2000x1000 with 1 Axes>"
      ]
     },
     "metadata": {},
     "output_type": "display_data"
    }
   ],
   "source": [
    "w, b, hist = descenso(x, a, nu = 1e-6, max_iter=100000, historial=True)\n",
    "plt.plot(np.arange(0, 100000, 1, dtype=int), hist)\n",
    "plt.title(r'Prueba del modelo con distribucion de Poisson ' )\n",
    "plt.xlabel('iteraciones')\n",
    "plt.ylabel('error en muestra')\n",
    "plt.show()"
   ]
  },
  {
   "cell_type": "code",
   "execution_count": 43,
   "metadata": {},
   "outputs": [
    {
     "name": "stdout",
     "output_type": "stream",
     "text": [
      "Los valores aproximados para w son: [0.33021693 0.12003224 0.20997815]\n",
      "El valor aproximado para b es: 6.999952596642168\n"
     ]
    }
   ],
   "source": [
    "print(f\"Los valores aproximados para w son: {w}\")\n",
    "print(f\"El valor aproximado para b es: {b}\")"
   ]
  },
  {
   "cell_type": "markdown",
   "metadata": {},
   "source": [
    "Como podemos ver, el algoritmo aproximó correctamente la función con la que se generaron los datos por lo que el código si funciona :)"
   ]
  },
  {
   "cell_type": "markdown",
   "metadata": {},
   "source": []
  }
 ],
 "metadata": {
  "kernelspec": {
   "display_name": "tf",
   "language": "python",
   "name": "python3"
  },
  "language_info": {
   "codemirror_mode": {
    "name": "ipython",
    "version": 3
   },
   "file_extension": ".py",
   "mimetype": "text/x-python",
   "name": "python",
   "nbconvert_exporter": "python",
   "pygments_lexer": "ipython3",
   "version": "3.8.0"
  },
  "orig_nbformat": 4
 },
 "nbformat": 4,
 "nbformat_minor": 2
}
